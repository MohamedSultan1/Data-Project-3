{
  "nbformat": 4,
  "nbformat_minor": 0,
  "metadata": {
    "colab": {
      "name": "M.S.Project3.ipynb",
      "provenance": [],
      "collapsed_sections": [
        "bNr-fO3O0Yo9",
        "e0qOUhhn0as4",
        "iDvAkVn01VWN",
        "Nbwv1leQ8SkM",
        "xD6z1Os08vDE",
        "A7760kxN9KLS",
        "SSDBi5rODs-w",
        "6DxQnMkPFGSt",
        "xKyEs_B_FX-0",
        "qJV1Q7BDQdi2",
        "dCuzV5EgQfrI",
        "tSNeNksTuQXG",
        "Hb4AaGarus4V",
        "Nx_ubcvjvbBJ",
        "CJy6fU-F1YwE",
        "2EFp1rYm1dp0",
        "yer2elAU1gp-",
        "JKWAtmgX1k0t",
        "nCsN0WOx1t-r",
        "D3sFy7sL1vxX",
        "y4L28SS511lW"
      ]
    },
    "kernelspec": {
      "name": "python3",
      "display_name": "Python 3"
    },
    "language_info": {
      "name": "python"
    }
  },
  "cells": [
    {
      "cell_type": "markdown",
      "source": [
        "# 1. Import pandas , matplotlib , seaborn ,sklearn libraries"
      ],
      "metadata": {
        "id": "bNr-fO3O0Yo9"
      }
    },
    {
      "cell_type": "code",
      "execution_count": 1,
      "metadata": {
        "id": "9MCzKJ220U0_"
      },
      "outputs": [],
      "source": [
        "import pandas as pd\n",
        "import numpy as np\n",
        "import matplotlib as plt\n",
        "import seaborn as sns\n",
        "import sklearn\n",
        "from sklearn.datasets import load_iris\n",
        "from sklearn.model_selection import train_test_split\n",
        "from sklearn import linear_model\n",
        "from sklearn.metrics import mean_squared_error"
      ]
    },
    {
      "cell_type": "markdown",
      "source": [
        "# 2. Read csv file named as iris.csv "
      ],
      "metadata": {
        "id": "e0qOUhhn0as4"
      }
    },
    {
      "cell_type": "code",
      "source": [
        "df = pd.read_csv (r\"/content/Iris.csv\")\n",
        "print(df)"
      ],
      "metadata": {
        "colab": {
          "base_uri": "https://localhost:8080/"
        },
        "id": "gAyMY7DM0bIh",
        "outputId": "cd161459-1190-4be8-d03b-d36b2e506332"
      },
      "execution_count": 2,
      "outputs": [
        {
          "output_type": "stream",
          "name": "stdout",
          "text": [
            "      Id  SepalLengthCm  SepalWidthCm  PetalLengthCm  PetalWidthCm  \\\n",
            "0      1            5.1           3.5            1.4           0.2   \n",
            "1      2            4.9           3.0            1.4           0.2   \n",
            "2      3            4.7           3.2            1.3           0.2   \n",
            "3      4            4.6           3.1            1.5           0.2   \n",
            "4      5            5.0           3.6            1.4           0.2   \n",
            "..   ...            ...           ...            ...           ...   \n",
            "145  146            6.7           3.0            5.2           2.3   \n",
            "146  147            6.3           2.5            5.0           1.9   \n",
            "147  148            6.5           3.0            5.2           2.0   \n",
            "148  149            6.2           3.4            5.4           2.3   \n",
            "149  150            5.9           3.0            5.1           1.8   \n",
            "\n",
            "            Species  \n",
            "0       Iris-setosa  \n",
            "1       Iris-setosa  \n",
            "2       Iris-setosa  \n",
            "3       Iris-setosa  \n",
            "4       Iris-setosa  \n",
            "..              ...  \n",
            "145  Iris-virginica  \n",
            "146  Iris-virginica  \n",
            "147  Iris-virginica  \n",
            "148  Iris-virginica  \n",
            "149  Iris-virginica  \n",
            "\n",
            "[150 rows x 6 columns]\n"
          ]
        }
      ]
    },
    {
      "cell_type": "markdown",
      "source": [
        "# 3. Show first five records"
      ],
      "metadata": {
        "id": "MVCXaF_T1NfZ"
      }
    },
    {
      "cell_type": "code",
      "source": [
        "df.head(5)"
      ],
      "metadata": {
        "colab": {
          "base_uri": "https://localhost:8080/",
          "height": 206
        },
        "id": "zITgIeHX1N1c",
        "outputId": "1f840d36-d14a-46ce-eb10-1b85b6a03d14"
      },
      "execution_count": 3,
      "outputs": [
        {
          "output_type": "execute_result",
          "data": {
            "text/plain": [
              "   Id  SepalLengthCm  SepalWidthCm  PetalLengthCm  PetalWidthCm      Species\n",
              "0   1            5.1           3.5            1.4           0.2  Iris-setosa\n",
              "1   2            4.9           3.0            1.4           0.2  Iris-setosa\n",
              "2   3            4.7           3.2            1.3           0.2  Iris-setosa\n",
              "3   4            4.6           3.1            1.5           0.2  Iris-setosa\n",
              "4   5            5.0           3.6            1.4           0.2  Iris-setosa"
            ],
            "text/html": [
              "\n",
              "  <div id=\"df-5a34170f-b93d-445d-a53b-d5d5b7646d0a\">\n",
              "    <div class=\"colab-df-container\">\n",
              "      <div>\n",
              "<style scoped>\n",
              "    .dataframe tbody tr th:only-of-type {\n",
              "        vertical-align: middle;\n",
              "    }\n",
              "\n",
              "    .dataframe tbody tr th {\n",
              "        vertical-align: top;\n",
              "    }\n",
              "\n",
              "    .dataframe thead th {\n",
              "        text-align: right;\n",
              "    }\n",
              "</style>\n",
              "<table border=\"1\" class=\"dataframe\">\n",
              "  <thead>\n",
              "    <tr style=\"text-align: right;\">\n",
              "      <th></th>\n",
              "      <th>Id</th>\n",
              "      <th>SepalLengthCm</th>\n",
              "      <th>SepalWidthCm</th>\n",
              "      <th>PetalLengthCm</th>\n",
              "      <th>PetalWidthCm</th>\n",
              "      <th>Species</th>\n",
              "    </tr>\n",
              "  </thead>\n",
              "  <tbody>\n",
              "    <tr>\n",
              "      <th>0</th>\n",
              "      <td>1</td>\n",
              "      <td>5.1</td>\n",
              "      <td>3.5</td>\n",
              "      <td>1.4</td>\n",
              "      <td>0.2</td>\n",
              "      <td>Iris-setosa</td>\n",
              "    </tr>\n",
              "    <tr>\n",
              "      <th>1</th>\n",
              "      <td>2</td>\n",
              "      <td>4.9</td>\n",
              "      <td>3.0</td>\n",
              "      <td>1.4</td>\n",
              "      <td>0.2</td>\n",
              "      <td>Iris-setosa</td>\n",
              "    </tr>\n",
              "    <tr>\n",
              "      <th>2</th>\n",
              "      <td>3</td>\n",
              "      <td>4.7</td>\n",
              "      <td>3.2</td>\n",
              "      <td>1.3</td>\n",
              "      <td>0.2</td>\n",
              "      <td>Iris-setosa</td>\n",
              "    </tr>\n",
              "    <tr>\n",
              "      <th>3</th>\n",
              "      <td>4</td>\n",
              "      <td>4.6</td>\n",
              "      <td>3.1</td>\n",
              "      <td>1.5</td>\n",
              "      <td>0.2</td>\n",
              "      <td>Iris-setosa</td>\n",
              "    </tr>\n",
              "    <tr>\n",
              "      <th>4</th>\n",
              "      <td>5</td>\n",
              "      <td>5.0</td>\n",
              "      <td>3.6</td>\n",
              "      <td>1.4</td>\n",
              "      <td>0.2</td>\n",
              "      <td>Iris-setosa</td>\n",
              "    </tr>\n",
              "  </tbody>\n",
              "</table>\n",
              "</div>\n",
              "      <button class=\"colab-df-convert\" onclick=\"convertToInteractive('df-5a34170f-b93d-445d-a53b-d5d5b7646d0a')\"\n",
              "              title=\"Convert this dataframe to an interactive table.\"\n",
              "              style=\"display:none;\">\n",
              "        \n",
              "  <svg xmlns=\"http://www.w3.org/2000/svg\" height=\"24px\"viewBox=\"0 0 24 24\"\n",
              "       width=\"24px\">\n",
              "    <path d=\"M0 0h24v24H0V0z\" fill=\"none\"/>\n",
              "    <path d=\"M18.56 5.44l.94 2.06.94-2.06 2.06-.94-2.06-.94-.94-2.06-.94 2.06-2.06.94zm-11 1L8.5 8.5l.94-2.06 2.06-.94-2.06-.94L8.5 2.5l-.94 2.06-2.06.94zm10 10l.94 2.06.94-2.06 2.06-.94-2.06-.94-.94-2.06-.94 2.06-2.06.94z\"/><path d=\"M17.41 7.96l-1.37-1.37c-.4-.4-.92-.59-1.43-.59-.52 0-1.04.2-1.43.59L10.3 9.45l-7.72 7.72c-.78.78-.78 2.05 0 2.83L4 21.41c.39.39.9.59 1.41.59.51 0 1.02-.2 1.41-.59l7.78-7.78 2.81-2.81c.8-.78.8-2.07 0-2.86zM5.41 20L4 18.59l7.72-7.72 1.47 1.35L5.41 20z\"/>\n",
              "  </svg>\n",
              "      </button>\n",
              "      \n",
              "  <style>\n",
              "    .colab-df-container {\n",
              "      display:flex;\n",
              "      flex-wrap:wrap;\n",
              "      gap: 12px;\n",
              "    }\n",
              "\n",
              "    .colab-df-convert {\n",
              "      background-color: #E8F0FE;\n",
              "      border: none;\n",
              "      border-radius: 50%;\n",
              "      cursor: pointer;\n",
              "      display: none;\n",
              "      fill: #1967D2;\n",
              "      height: 32px;\n",
              "      padding: 0 0 0 0;\n",
              "      width: 32px;\n",
              "    }\n",
              "\n",
              "    .colab-df-convert:hover {\n",
              "      background-color: #E2EBFA;\n",
              "      box-shadow: 0px 1px 2px rgba(60, 64, 67, 0.3), 0px 1px 3px 1px rgba(60, 64, 67, 0.15);\n",
              "      fill: #174EA6;\n",
              "    }\n",
              "\n",
              "    [theme=dark] .colab-df-convert {\n",
              "      background-color: #3B4455;\n",
              "      fill: #D2E3FC;\n",
              "    }\n",
              "\n",
              "    [theme=dark] .colab-df-convert:hover {\n",
              "      background-color: #434B5C;\n",
              "      box-shadow: 0px 1px 3px 1px rgba(0, 0, 0, 0.15);\n",
              "      filter: drop-shadow(0px 1px 2px rgba(0, 0, 0, 0.3));\n",
              "      fill: #FFFFFF;\n",
              "    }\n",
              "  </style>\n",
              "\n",
              "      <script>\n",
              "        const buttonEl =\n",
              "          document.querySelector('#df-5a34170f-b93d-445d-a53b-d5d5b7646d0a button.colab-df-convert');\n",
              "        buttonEl.style.display =\n",
              "          google.colab.kernel.accessAllowed ? 'block' : 'none';\n",
              "\n",
              "        async function convertToInteractive(key) {\n",
              "          const element = document.querySelector('#df-5a34170f-b93d-445d-a53b-d5d5b7646d0a');\n",
              "          const dataTable =\n",
              "            await google.colab.kernel.invokeFunction('convertToInteractive',\n",
              "                                                     [key], {});\n",
              "          if (!dataTable) return;\n",
              "\n",
              "          const docLinkHtml = 'Like what you see? Visit the ' +\n",
              "            '<a target=\"_blank\" href=https://colab.research.google.com/notebooks/data_table.ipynb>data table notebook</a>'\n",
              "            + ' to learn more about interactive tables.';\n",
              "          element.innerHTML = '';\n",
              "          dataTable['output_type'] = 'display_data';\n",
              "          await google.colab.output.renderOutput(dataTable, element);\n",
              "          const docLink = document.createElement('div');\n",
              "          docLink.innerHTML = docLinkHtml;\n",
              "          element.appendChild(docLink);\n",
              "        }\n",
              "      </script>\n",
              "    </div>\n",
              "  </div>\n",
              "  "
            ]
          },
          "metadata": {},
          "execution_count": 3
        }
      ]
    },
    {
      "cell_type": "markdown",
      "source": [
        "# 4. Show a dataframe which has sepalwidth greater than 4"
      ],
      "metadata": {
        "id": "iDvAkVn01VWN"
      }
    },
    {
      "cell_type": "code",
      "source": [
        "sw = df['SepalWidthCm']>4"
      ],
      "metadata": {
        "id": "KZY0bY0k6ZfP"
      },
      "execution_count": 4,
      "outputs": []
    },
    {
      "cell_type": "code",
      "source": [
        "filteredsw = df[sw]\n",
        "print(filteredsw)"
      ],
      "metadata": {
        "colab": {
          "base_uri": "https://localhost:8080/"
        },
        "id": "Jz1BLObk7N8S",
        "outputId": "604b64da-111a-48cf-ec1e-de5d627703eb"
      },
      "execution_count": 5,
      "outputs": [
        {
          "output_type": "stream",
          "name": "stdout",
          "text": [
            "    Id  SepalLengthCm  SepalWidthCm  PetalLengthCm  PetalWidthCm      Species\n",
            "15  16            5.7           4.4            1.5           0.4  Iris-setosa\n",
            "32  33            5.2           4.1            1.5           0.1  Iris-setosa\n",
            "33  34            5.5           4.2            1.4           0.2  Iris-setosa\n"
          ]
        }
      ]
    },
    {
      "cell_type": "markdown",
      "source": [
        "# 5. Show a dataframe which has petalwidth greater than 1"
      ],
      "metadata": {
        "id": "Nbwv1leQ8SkM"
      }
    },
    {
      "cell_type": "code",
      "source": [
        "pw = df['PetalWidthCm']>1"
      ],
      "metadata": {
        "id": "6Y77QMyq8d-9"
      },
      "execution_count": 6,
      "outputs": []
    },
    {
      "cell_type": "code",
      "source": [
        "filteredpw = df[pw]\n",
        "print(filteredpw)"
      ],
      "metadata": {
        "colab": {
          "base_uri": "https://localhost:8080/"
        },
        "id": "PExkFkJ88lm9",
        "outputId": "7ce89d4a-8965-498b-f424-d23c3493ce1f"
      },
      "execution_count": 7,
      "outputs": [
        {
          "output_type": "stream",
          "name": "stdout",
          "text": [
            "      Id  SepalLengthCm  SepalWidthCm  PetalLengthCm  PetalWidthCm  \\\n",
            "50    51            7.0           3.2            4.7           1.4   \n",
            "51    52            6.4           3.2            4.5           1.5   \n",
            "52    53            6.9           3.1            4.9           1.5   \n",
            "53    54            5.5           2.3            4.0           1.3   \n",
            "54    55            6.5           2.8            4.6           1.5   \n",
            "..   ...            ...           ...            ...           ...   \n",
            "145  146            6.7           3.0            5.2           2.3   \n",
            "146  147            6.3           2.5            5.0           1.9   \n",
            "147  148            6.5           3.0            5.2           2.0   \n",
            "148  149            6.2           3.4            5.4           2.3   \n",
            "149  150            5.9           3.0            5.1           1.8   \n",
            "\n",
            "             Species  \n",
            "50   Iris-versicolor  \n",
            "51   Iris-versicolor  \n",
            "52   Iris-versicolor  \n",
            "53   Iris-versicolor  \n",
            "54   Iris-versicolor  \n",
            "..               ...  \n",
            "145   Iris-virginica  \n",
            "146   Iris-virginica  \n",
            "147   Iris-virginica  \n",
            "148   Iris-virginica  \n",
            "149   Iris-virginica  \n",
            "\n",
            "[93 rows x 6 columns]\n"
          ]
        }
      ]
    },
    {
      "cell_type": "markdown",
      "source": [
        "# 6. Reterive records which have petalwidth more than 2\n"
      ],
      "metadata": {
        "id": "xD6z1Os08vDE"
      }
    },
    {
      "cell_type": "code",
      "source": [
        "pw2 = df['PetalWidthCm']>2"
      ],
      "metadata": {
        "id": "qOc1ZFSl8z0e"
      },
      "execution_count": 8,
      "outputs": []
    },
    {
      "cell_type": "code",
      "source": [
        "filteredpw2 = df[pw2]\n",
        "print(filteredpw2)"
      ],
      "metadata": {
        "colab": {
          "base_uri": "https://localhost:8080/"
        },
        "id": "zESifWdV9DTH",
        "outputId": "41527c9f-04cc-4e67-e717-c8ad00bb6dcd"
      },
      "execution_count": 9,
      "outputs": [
        {
          "output_type": "stream",
          "name": "stdout",
          "text": [
            "      Id  SepalLengthCm  SepalWidthCm  PetalLengthCm  PetalWidthCm  \\\n",
            "100  101            6.3           3.3            6.0           2.5   \n",
            "102  103            7.1           3.0            5.9           2.1   \n",
            "104  105            6.5           3.0            5.8           2.2   \n",
            "105  106            7.6           3.0            6.6           2.1   \n",
            "109  110            7.2           3.6            6.1           2.5   \n",
            "112  113            6.8           3.0            5.5           2.1   \n",
            "114  115            5.8           2.8            5.1           2.4   \n",
            "115  116            6.4           3.2            5.3           2.3   \n",
            "117  118            7.7           3.8            6.7           2.2   \n",
            "118  119            7.7           2.6            6.9           2.3   \n",
            "120  121            6.9           3.2            5.7           2.3   \n",
            "124  125            6.7           3.3            5.7           2.1   \n",
            "128  129            6.4           2.8            5.6           2.1   \n",
            "132  133            6.4           2.8            5.6           2.2   \n",
            "135  136            7.7           3.0            6.1           2.3   \n",
            "136  137            6.3           3.4            5.6           2.4   \n",
            "139  140            6.9           3.1            5.4           2.1   \n",
            "140  141            6.7           3.1            5.6           2.4   \n",
            "141  142            6.9           3.1            5.1           2.3   \n",
            "143  144            6.8           3.2            5.9           2.3   \n",
            "144  145            6.7           3.3            5.7           2.5   \n",
            "145  146            6.7           3.0            5.2           2.3   \n",
            "148  149            6.2           3.4            5.4           2.3   \n",
            "\n",
            "            Species  \n",
            "100  Iris-virginica  \n",
            "102  Iris-virginica  \n",
            "104  Iris-virginica  \n",
            "105  Iris-virginica  \n",
            "109  Iris-virginica  \n",
            "112  Iris-virginica  \n",
            "114  Iris-virginica  \n",
            "115  Iris-virginica  \n",
            "117  Iris-virginica  \n",
            "118  Iris-virginica  \n",
            "120  Iris-virginica  \n",
            "124  Iris-virginica  \n",
            "128  Iris-virginica  \n",
            "132  Iris-virginica  \n",
            "135  Iris-virginica  \n",
            "136  Iris-virginica  \n",
            "139  Iris-virginica  \n",
            "140  Iris-virginica  \n",
            "141  Iris-virginica  \n",
            "143  Iris-virginica  \n",
            "144  Iris-virginica  \n",
            "145  Iris-virginica  \n",
            "148  Iris-virginica  \n"
          ]
        }
      ]
    },
    {
      "cell_type": "markdown",
      "source": [
        "# 7. Try to know the relationship between sepallength and petallength and draw a scatter plot between them and show the relationship between them"
      ],
      "metadata": {
        "id": "A7760kxN9KLS"
      }
    },
    {
      "cell_type": "markdown",
      "source": [
        "matplotlip"
      ],
      "metadata": {
        "id": "Sw_S1cSzDAUY"
      }
    },
    {
      "cell_type": "code",
      "source": [
        "ax1 = df.plot.scatter(x='SepalLengthCm',\n",
        "                      y='PetalLengthCm', \n",
        "                      c='Red')"
      ],
      "metadata": {
        "colab": {
          "base_uri": "https://localhost:8080/",
          "height": 279
        },
        "id": "tgU6leeJ-CFE",
        "outputId": "b47aa63a-dec1-4ea0-dd87-cd5d10472f5e"
      },
      "execution_count": 10,
      "outputs": [
        {
          "output_type": "display_data",
          "data": {
            "text/plain": [
              "<Figure size 432x288 with 1 Axes>"
            ],
            "image/png": "[encoded data removed]"
          },
          "metadata": {
            "needs_background": "light"
          }
        }
      ]
    },
    {
      "cell_type": "markdown",
      "source": [
        "seaborn"
      ],
      "metadata": {
        "id": "9u6b4mlBDDeu"
      }
    },
    {
      "cell_type": "code",
      "source": [
        "scatter_plot = sns.scatterplot(data=df, x=\"SepalLengthCm\", y=\"PetalLengthCm\")\n",
        "scatter_plot"
      ],
      "metadata": {
        "colab": {
          "base_uri": "https://localhost:8080/",
          "height": 297
        },
        "id": "2qbPaagrCiLb",
        "outputId": "ccb82e22-1c12-4de0-9162-d6cf87f54e5a"
      },
      "execution_count": 11,
      "outputs": [
        {
          "output_type": "execute_result",
          "data": {
            "text/plain": [
              "<matplotlib.axes._subplots.AxesSubplot at 0x7eff18020150>"
            ]
          },
          "metadata": {},
          "execution_count": 11
        },
        {
          "output_type": "display_data",
          "data": {
            "text/plain": [
              "<Figure size 432x288 with 1 Axes>"
            ],
            "image/png": "[encoded data removed]"
          },
          "metadata": {
            "needs_background": "light"
          }
        }
      ]
    },
    {
      "cell_type": "markdown",
      "source": [
        "# 8. Now apply species as hue in the same scatter plot for better visibility and understanding\n"
      ],
      "metadata": {
        "id": "c-sFdaw0BBi3"
      }
    },
    {
      "cell_type": "code",
      "source": [
        "scatter_plot2 = sns.scatterplot(data=df, x=\"SepalLengthCm\", y=\"PetalLengthCm\", hue=\"Species\")\n",
        "scatter_plot2"
      ],
      "metadata": {
        "colab": {
          "base_uri": "https://localhost:8080/",
          "height": 297
        },
        "id": "xdakon7aCC09",
        "outputId": "0bd88877-51f4-415e-cea6-711c95dbfa9a"
      },
      "execution_count": 12,
      "outputs": [
        {
          "output_type": "execute_result",
          "data": {
            "text/plain": [
              "<matplotlib.axes._subplots.AxesSubplot at 0x7eff17ac0690>"
            ]
          },
          "metadata": {},
          "execution_count": 12
        },
        {
          "output_type": "display_data",
          "data": {
            "text/plain": [
              "<Figure size 432x288 with 1 Axes>"
            ],
            "image/png": "[encoded data removed]"
          },
          "metadata": {
            "needs_background": "light"
          }
        }
      ]
    },
    {
      "cell_type": "markdown",
      "source": [
        "### Applying Linear Regression\n"
      ],
      "metadata": {
        "id": "O-4E4O4xzbTa"
      }
    },
    {
      "cell_type": "markdown",
      "source": [
        "## 1) Model 1 "
      ],
      "metadata": {
        "id": "5od3JNeVzg7-"
      }
    },
    {
      "cell_type": "markdown",
      "source": [
        "# a) Create an object named as y which is storing the dataframe of a dependent variable names as 'sepallengthcm'\n"
      ],
      "metadata": {
        "id": "SSDBi5rODs-w"
      }
    },
    {
      "cell_type": "code",
      "source": [
        "y = df.SepalLengthCm\n",
        "y"
      ],
      "metadata": {
        "colab": {
          "base_uri": "https://localhost:8080/"
        },
        "id": "YDRqdDNtDvvx",
        "outputId": "f4fe2eba-ad31-48d2-8aa7-be26eb9177b5"
      },
      "execution_count": 13,
      "outputs": [
        {
          "output_type": "execute_result",
          "data": {
            "text/plain": [
              "0      5.1\n",
              "1      4.9\n",
              "2      4.7\n",
              "3      4.6\n",
              "4      5.0\n",
              "      ... \n",
              "145    6.7\n",
              "146    6.3\n",
              "147    6.5\n",
              "148    6.2\n",
              "149    5.9\n",
              "Name: SepalLengthCm, Length: 150, dtype: float64"
            ]
          },
          "metadata": {},
          "execution_count": 13
        }
      ]
    },
    {
      "cell_type": "markdown",
      "source": [
        "# b) Create an object named as x which is storing the dataframe of an independent variable names as 'sepalwidthcm'\n"
      ],
      "metadata": {
        "id": "6DxQnMkPFGSt"
      }
    },
    {
      "cell_type": "code",
      "source": [
        "x = df.SepalWidthCm\n",
        "x"
      ],
      "metadata": {
        "colab": {
          "base_uri": "https://localhost:8080/"
        },
        "id": "mGoolEuTFKeR",
        "outputId": "45dd5f3b-45db-4957-a7f3-600feea867a5"
      },
      "execution_count": 14,
      "outputs": [
        {
          "output_type": "execute_result",
          "data": {
            "text/plain": [
              "0      3.5\n",
              "1      3.0\n",
              "2      3.2\n",
              "3      3.1\n",
              "4      3.6\n",
              "      ... \n",
              "145    3.0\n",
              "146    2.5\n",
              "147    3.0\n",
              "148    3.4\n",
              "149    3.0\n",
              "Name: SepalWidthCm, Length: 150, dtype: float64"
            ]
          },
          "metadata": {},
          "execution_count": 14
        }
      ]
    },
    {
      "cell_type": "markdown",
      "source": [
        "# c) Divide the variables into x_train,x_test,y_train,y_test variables using train_test_split method carrying parameters named as x,y and test size should be 30%\n"
      ],
      "metadata": {
        "id": "xKyEs_B_FX-0"
      }
    },
    {
      "cell_type": "code",
      "source": [
        "iris = load_iris()"
      ],
      "metadata": {
        "id": "Wn4X15C5Fdnn"
      },
      "execution_count": 15,
      "outputs": []
    },
    {
      "cell_type": "code",
      "source": [
        "x = iris.data\n",
        "y = iris.target"
      ],
      "metadata": {
        "id": "NkmwKPDvG6WO"
      },
      "execution_count": 16,
      "outputs": []
    },
    {
      "cell_type": "code",
      "source": [
        "x_train, x_test, y_train, y_test = train_test_split(x, y, test_size = 0.30)"
      ],
      "metadata": {
        "id": "XuOwACJUG-1m"
      },
      "execution_count": 17,
      "outputs": []
    },
    {
      "cell_type": "markdown",
      "source": [
        "# d) Show first five records of all four variables / objects"
      ],
      "metadata": {
        "id": "qJV1Q7BDQdi2"
      }
    },
    {
      "cell_type": "code",
      "source": [
        "x_train[:5]\n",
        "\n"
      ],
      "metadata": {
        "colab": {
          "base_uri": "https://localhost:8080/"
        },
        "id": "48aQKVDlHK2J",
        "outputId": "7998bb97-b17f-4624-ba0f-733399007e4c"
      },
      "execution_count": 18,
      "outputs": [
        {
          "output_type": "execute_result",
          "data": {
            "text/plain": [
              "array([[7.7, 3. , 6.1, 2.3],\n",
              "       [6.1, 2.6, 5.6, 1.4],\n",
              "       [6.6, 2.9, 4.6, 1.3],\n",
              "       [6. , 2.7, 5.1, 1.6],\n",
              "       [6.6, 3. , 4.4, 1.4]])"
            ]
          },
          "metadata": {},
          "execution_count": 18
        }
      ]
    },
    {
      "cell_type": "code",
      "source": [
        "x_test[:5]"
      ],
      "metadata": {
        "colab": {
          "base_uri": "https://localhost:8080/"
        },
        "id": "9niNo1fSLGpN",
        "outputId": "42757187-1add-4aed-842e-ec741ea0bd39"
      },
      "execution_count": 19,
      "outputs": [
        {
          "output_type": "execute_result",
          "data": {
            "text/plain": [
              "array([[5. , 3.6, 1.4, 0.2],\n",
              "       [5.4, 3.4, 1.7, 0.2],\n",
              "       [5.9, 3.2, 4.8, 1.8],\n",
              "       [7.7, 3.8, 6.7, 2.2],\n",
              "       [6.8, 3. , 5.5, 2.1]])"
            ]
          },
          "metadata": {},
          "execution_count": 19
        }
      ]
    },
    {
      "cell_type": "code",
      "source": [
        "y_train[:5]"
      ],
      "metadata": {
        "colab": {
          "base_uri": "https://localhost:8080/"
        },
        "id": "3KlXmJ28LNzd",
        "outputId": "9cad1f5b-94a2-4c9f-d43d-2e7999e712a7"
      },
      "execution_count": 20,
      "outputs": [
        {
          "output_type": "execute_result",
          "data": {
            "text/plain": [
              "array([2, 2, 1, 1, 1])"
            ]
          },
          "metadata": {},
          "execution_count": 20
        }
      ]
    },
    {
      "cell_type": "code",
      "source": [
        "y_test[:5]"
      ],
      "metadata": {
        "colab": {
          "base_uri": "https://localhost:8080/"
        },
        "id": "Ugt3fdPkLQZj",
        "outputId": "74b5f508-ce99-45a0-ec8c-73b96858f28f"
      },
      "execution_count": 21,
      "outputs": [
        {
          "output_type": "execute_result",
          "data": {
            "text/plain": [
              "array([0, 0, 1, 2, 2])"
            ]
          },
          "metadata": {},
          "execution_count": 21
        }
      ]
    },
    {
      "cell_type": "markdown",
      "source": [
        "# e) Create an object named as lr and assign memory from linearregression() method."
      ],
      "metadata": {
        "id": "dCuzV5EgQfrI"
      }
    },
    {
      "cell_type": "code",
      "source": [
        "lr = linear_model.LinearRegression()"
      ],
      "metadata": {
        "id": "xtvdFxLAQlIS"
      },
      "execution_count": 22,
      "outputs": []
    },
    {
      "cell_type": "markdown",
      "source": [
        "# f) Fit both training set into fit method"
      ],
      "metadata": {
        "id": "tSNeNksTuQXG"
      }
    },
    {
      "cell_type": "code",
      "source": [
        "lr.fit(x_train, y_train)"
      ],
      "metadata": {
        "colab": {
          "base_uri": "https://localhost:8080/"
        },
        "id": "Stn56P6puWf2",
        "outputId": "bd5ddde8-e4ba-45a9-d126-b3556bda552e"
      },
      "execution_count": 23,
      "outputs": [
        {
          "output_type": "execute_result",
          "data": {
            "text/plain": [
              "LinearRegression()"
            ]
          },
          "metadata": {},
          "execution_count": 23
        }
      ]
    },
    {
      "cell_type": "markdown",
      "source": [
        "# g) Predict x_test from predict method and store the result into y_pred obect"
      ],
      "metadata": {
        "id": "Hb4AaGarus4V"
      }
    },
    {
      "cell_type": "code",
      "source": [
        "y_pred = lr.predict(x_test)"
      ],
      "metadata": {
        "id": "UbObo59Zuuyr"
      },
      "execution_count": 24,
      "outputs": []
    },
    {
      "cell_type": "markdown",
      "source": [
        "# h) Show first five records from actual and predicted objects"
      ],
      "metadata": {
        "id": "Nx_ubcvjvbBJ"
      }
    },
    {
      "cell_type": "markdown",
      "source": [
        "Actual"
      ],
      "metadata": {
        "id": "9PG0VExlx7T7"
      }
    },
    {
      "cell_type": "code",
      "source": [
        "lr_df = pd.DataFrame({'Actual': y_test.flatten(), 'Predicted': y_pred.flatten()}).head(5)\n",
        "lr_df"
      ],
      "metadata": {
        "colab": {
          "base_uri": "https://localhost:8080/",
          "height": 206
        },
        "id": "pNnsYWvne-w5",
        "outputId": "e04323e1-833b-4b7b-9a15-349026173b7b"
      },
      "execution_count": 41,
      "outputs": [
        {
          "output_type": "execute_result",
          "data": {
            "text/plain": [
              "   Actual  Predicted\n",
              "0       0  -0.075289\n",
              "1       0  -0.050548\n",
              "2       1   1.606945\n",
              "3       2   2.054456\n",
              "4       2   1.837124"
            ],
            "text/html": [
              "\n",
              "  <div id=\"df-f8909fc2-133c-4773-aa4a-89f6f9d77787\">\n",
              "    <div class=\"colab-df-container\">\n",
              "      <div>\n",
              "<style scoped>\n",
              "    .dataframe tbody tr th:only-of-type {\n",
              "        vertical-align: middle;\n",
              "    }\n",
              "\n",
              "    .dataframe tbody tr th {\n",
              "        vertical-align: top;\n",
              "    }\n",
              "\n",
              "    .dataframe thead th {\n",
              "        text-align: right;\n",
              "    }\n",
              "</style>\n",
              "<table border=\"1\" class=\"dataframe\">\n",
              "  <thead>\n",
              "    <tr style=\"text-align: right;\">\n",
              "      <th></th>\n",
              "      <th>Actual</th>\n",
              "      <th>Predicted</th>\n",
              "    </tr>\n",
              "  </thead>\n",
              "  <tbody>\n",
              "    <tr>\n",
              "      <th>0</th>\n",
              "      <td>0</td>\n",
              "      <td>-0.075289</td>\n",
              "    </tr>\n",
              "    <tr>\n",
              "      <th>1</th>\n",
              "      <td>0</td>\n",
              "      <td>-0.050548</td>\n",
              "    </tr>\n",
              "    <tr>\n",
              "      <th>2</th>\n",
              "      <td>1</td>\n",
              "      <td>1.606945</td>\n",
              "    </tr>\n",
              "    <tr>\n",
              "      <th>3</th>\n",
              "      <td>2</td>\n",
              "      <td>2.054456</td>\n",
              "    </tr>\n",
              "    <tr>\n",
              "      <th>4</th>\n",
              "      <td>2</td>\n",
              "      <td>1.837124</td>\n",
              "    </tr>\n",
              "  </tbody>\n",
              "</table>\n",
              "</div>\n",
              "      <button class=\"colab-df-convert\" onclick=\"convertToInteractive('df-f8909fc2-133c-4773-aa4a-89f6f9d77787')\"\n",
              "              title=\"Convert this dataframe to an interactive table.\"\n",
              "              style=\"display:none;\">\n",
              "        \n",
              "  <svg xmlns=\"http://www.w3.org/2000/svg\" height=\"24px\"viewBox=\"0 0 24 24\"\n",
              "       width=\"24px\">\n",
              "    <path d=\"M0 0h24v24H0V0z\" fill=\"none\"/>\n",
              "    <path d=\"M18.56 5.44l.94 2.06.94-2.06 2.06-.94-2.06-.94-.94-2.06-.94 2.06-2.06.94zm-11 1L8.5 8.5l.94-2.06 2.06-.94-2.06-.94L8.5 2.5l-.94 2.06-2.06.94zm10 10l.94 2.06.94-2.06 2.06-.94-2.06-.94-.94-2.06-.94 2.06-2.06.94z\"/><path d=\"M17.41 7.96l-1.37-1.37c-.4-.4-.92-.59-1.43-.59-.52 0-1.04.2-1.43.59L10.3 9.45l-7.72 7.72c-.78.78-.78 2.05 0 2.83L4 21.41c.39.39.9.59 1.41.59.51 0 1.02-.2 1.41-.59l7.78-7.78 2.81-2.81c.8-.78.8-2.07 0-2.86zM5.41 20L4 18.59l7.72-7.72 1.47 1.35L5.41 20z\"/>\n",
              "  </svg>\n",
              "      </button>\n",
              "      \n",
              "  <style>\n",
              "    .colab-df-container {\n",
              "      display:flex;\n",
              "      flex-wrap:wrap;\n",
              "      gap: 12px;\n",
              "    }\n",
              "\n",
              "    .colab-df-convert {\n",
              "      background-color: #E8F0FE;\n",
              "      border: none;\n",
              "      border-radius: 50%;\n",
              "      cursor: pointer;\n",
              "      display: none;\n",
              "      fill: #1967D2;\n",
              "      height: 32px;\n",
              "      padding: 0 0 0 0;\n",
              "      width: 32px;\n",
              "    }\n",
              "\n",
              "    .colab-df-convert:hover {\n",
              "      background-color: #E2EBFA;\n",
              "      box-shadow: 0px 1px 2px rgba(60, 64, 67, 0.3), 0px 1px 3px 1px rgba(60, 64, 67, 0.15);\n",
              "      fill: #174EA6;\n",
              "    }\n",
              "\n",
              "    [theme=dark] .colab-df-convert {\n",
              "      background-color: #3B4455;\n",
              "      fill: #D2E3FC;\n",
              "    }\n",
              "\n",
              "    [theme=dark] .colab-df-convert:hover {\n",
              "      background-color: #434B5C;\n",
              "      box-shadow: 0px 1px 3px 1px rgba(0, 0, 0, 0.15);\n",
              "      filter: drop-shadow(0px 1px 2px rgba(0, 0, 0, 0.3));\n",
              "      fill: #FFFFFF;\n",
              "    }\n",
              "  </style>\n",
              "\n",
              "      <script>\n",
              "        const buttonEl =\n",
              "          document.querySelector('#df-f8909fc2-133c-4773-aa4a-89f6f9d77787 button.colab-df-convert');\n",
              "        buttonEl.style.display =\n",
              "          google.colab.kernel.accessAllowed ? 'block' : 'none';\n",
              "\n",
              "        async function convertToInteractive(key) {\n",
              "          const element = document.querySelector('#df-f8909fc2-133c-4773-aa4a-89f6f9d77787');\n",
              "          const dataTable =\n",
              "            await google.colab.kernel.invokeFunction('convertToInteractive',\n",
              "                                                     [key], {});\n",
              "          if (!dataTable) return;\n",
              "\n",
              "          const docLinkHtml = 'Like what you see? Visit the ' +\n",
              "            '<a target=\"_blank\" href=https://colab.research.google.com/notebooks/data_table.ipynb>data table notebook</a>'\n",
              "            + ' to learn more about interactive tables.';\n",
              "          element.innerHTML = '';\n",
              "          dataTable['output_type'] = 'display_data';\n",
              "          await google.colab.output.renderOutput(dataTable, element);\n",
              "          const docLink = document.createElement('div');\n",
              "          docLink.innerHTML = docLinkHtml;\n",
              "          element.appendChild(docLink);\n",
              "        }\n",
              "      </script>\n",
              "    </div>\n",
              "  </div>\n",
              "  "
            ]
          },
          "metadata": {},
          "execution_count": 41
        }
      ]
    },
    {
      "cell_type": "code",
      "source": [
        "x_test[:5]"
      ],
      "metadata": {
        "colab": {
          "base_uri": "https://localhost:8080/"
        },
        "id": "MsqzGwUVxrr1",
        "outputId": "a0f65c9b-4176-42d7-cce5-70f9f3278cec"
      },
      "execution_count": 25,
      "outputs": [
        {
          "output_type": "execute_result",
          "data": {
            "text/plain": [
              "array([[5. , 3.6, 1.4, 0.2],\n",
              "       [5.4, 3.4, 1.7, 0.2],\n",
              "       [5.9, 3.2, 4.8, 1.8],\n",
              "       [7.7, 3.8, 6.7, 2.2],\n",
              "       [6.8, 3. , 5.5, 2.1]])"
            ]
          },
          "metadata": {},
          "execution_count": 25
        }
      ]
    },
    {
      "cell_type": "markdown",
      "source": [
        "Predicted"
      ],
      "metadata": {
        "id": "Dh02s0KXx9ph"
      }
    },
    {
      "cell_type": "code",
      "source": [
        "y_pred[:5]"
      ],
      "metadata": {
        "colab": {
          "base_uri": "https://localhost:8080/"
        },
        "id": "ww5hagLGvcrf",
        "outputId": "21fddf3d-d7a3-4706-a3ba-8173c768d49d"
      },
      "execution_count": 26,
      "outputs": [
        {
          "output_type": "execute_result",
          "data": {
            "text/plain": [
              "array([-0.07528853, -0.05054784,  1.60694456,  2.05445574,  1.83712391])"
            ]
          },
          "metadata": {},
          "execution_count": 26
        }
      ]
    },
    {
      "cell_type": "code",
      "source": [
        "print(y_pred)"
      ],
      "metadata": {
        "colab": {
          "base_uri": "https://localhost:8080/"
        },
        "id": "fPbObnv0y17T",
        "outputId": "3764a7a8-af8e-4d3a-cb9b-2a3b16258bda"
      },
      "execution_count": 27,
      "outputs": [
        {
          "output_type": "stream",
          "name": "stdout",
          "text": [
            "[-0.07528853 -0.05054784  1.60694456  2.05445574  1.83712391  1.17916418\n",
            "  1.25621443 -0.06785985  1.5740397  -0.08111408  1.89072438  1.98534529\n",
            "  0.01440535  1.22779562  1.3946558   1.49438446 -0.0757295   1.05921515\n",
            "  1.92477867  1.95420432 -0.05898336 -0.08999058  1.80148032  0.08631695\n",
            "  1.59762709  1.18588053  0.00944904 -0.02898299  1.30568696  1.21790343\n",
            "  1.70563596  1.33773143 -0.04326562 -0.08708222  0.01979491  1.4908837\n",
            "  1.83408568  2.00341435  2.12760737  0.87053535  1.83284952  1.76227466\n",
            "  2.05086048 -0.04922105  1.40354114]\n"
          ]
        }
      ]
    },
    {
      "cell_type": "markdown",
      "source": [
        "# i) Try to find out mean_squared_error in prediction using method after passing parameter as y_test and y_pred ,mind the result"
      ],
      "metadata": {
        "id": "i2K0b6HwxhJA"
      }
    },
    {
      "cell_type": "markdown",
      "source": [
        "Manual implementation"
      ],
      "metadata": {
        "id": "wNQ1wlyy1GMV"
      }
    },
    {
      "cell_type": "code",
      "source": [
        "summation = 0  #variable to store the summation of differences\n",
        "n = len(y_test) #finding total number of items in list\n",
        "for i in range (0,n):  #looping through each element of the list\n",
        "  difference = y_test[i] - y_pred[i]  #finding the difference between observed and predicted value\n",
        "  squared_difference = difference**2  #taking square of the differene \n",
        "  summation = summation + squared_difference  #taking a sum of all the differences\n",
        "MSE = summation/n  #dividing summation by total values to obtain average\n",
        "print( \"The mean_squared_error is: \" , MSE)"
      ],
      "metadata": {
        "colab": {
          "base_uri": "https://localhost:8080/"
        },
        "id": "6WpMtS5IxjQk",
        "outputId": "3a8dc6c8-4e9e-430e-8844-90220e7fdc15"
      },
      "execution_count": 28,
      "outputs": [
        {
          "output_type": "stream",
          "name": "stdout",
          "text": [
            "The mean_squared_error is:  0.05222867298520799\n"
          ]
        }
      ]
    },
    {
      "cell_type": "markdown",
      "source": [
        "Library implementation"
      ],
      "metadata": {
        "id": "BgtpvJOZ1J3C"
      }
    },
    {
      "cell_type": "code",
      "source": [
        "MSE = mean_squared_error(y_test,y_pred)\n",
        "MSE"
      ],
      "metadata": {
        "colab": {
          "base_uri": "https://localhost:8080/"
        },
        "id": "anfMuacB0vHi",
        "outputId": "da869855-87b3-4f97-b7d9-8ed1a232fa9c"
      },
      "execution_count": 29,
      "outputs": [
        {
          "output_type": "execute_result",
          "data": {
            "text/plain": [
              "0.052228672985207995"
            ]
          },
          "metadata": {},
          "execution_count": 29
        }
      ]
    },
    {
      "cell_type": "markdown",
      "source": [
        "## Model 2 "
      ],
      "metadata": {
        "id": "ZVfYqkfD1OmC"
      }
    },
    {
      "cell_type": "markdown",
      "source": [
        "# a. Create an object named as y and store dataframe of sepallengthcm dependent variable"
      ],
      "metadata": {
        "id": "CJy6fU-F1YwE"
      }
    },
    {
      "cell_type": "code",
      "source": [
        "Y = df.SepalLengthCm\n",
        "Y"
      ],
      "metadata": {
        "colab": {
          "base_uri": "https://localhost:8080/"
        },
        "id": "MpoBOxIV1bdL",
        "outputId": "04caf806-5094-4202-ef36-e1a6bf506fa7"
      },
      "execution_count": 30,
      "outputs": [
        {
          "output_type": "execute_result",
          "data": {
            "text/plain": [
              "0      5.1\n",
              "1      4.9\n",
              "2      4.7\n",
              "3      4.6\n",
              "4      5.0\n",
              "      ... \n",
              "145    6.7\n",
              "146    6.3\n",
              "147    6.5\n",
              "148    6.2\n",
              "149    5.9\n",
              "Name: SepalLengthCm, Length: 150, dtype: float64"
            ]
          },
          "metadata": {},
          "execution_count": 30
        }
      ]
    },
    {
      "cell_type": "markdown",
      "source": [
        "# b. Store 'sepalwidthcm','petallengthcm','petalwidthcm' dataframe in x as an independent variables"
      ],
      "metadata": {
        "id": "2EFp1rYm1dp0"
      }
    },
    {
      "cell_type": "code",
      "source": [
        "X = df.SepalWidthCm, df.PetalLengthCm, df.PetalWidthCm\n",
        "X"
      ],
      "metadata": {
        "colab": {
          "base_uri": "https://localhost:8080/"
        },
        "id": "cIujcJax1f7Y",
        "outputId": "e1923cd7-7859-4828-c416-ddcc2a9224cc"
      },
      "execution_count": 31,
      "outputs": [
        {
          "output_type": "execute_result",
          "data": {
            "text/plain": [
              "(0      3.5\n",
              " 1      3.0\n",
              " 2      3.2\n",
              " 3      3.1\n",
              " 4      3.6\n",
              "       ... \n",
              " 145    3.0\n",
              " 146    2.5\n",
              " 147    3.0\n",
              " 148    3.4\n",
              " 149    3.0\n",
              " Name: SepalWidthCm, Length: 150, dtype: float64, 0      1.4\n",
              " 1      1.4\n",
              " 2      1.3\n",
              " 3      1.5\n",
              " 4      1.4\n",
              "       ... \n",
              " 145    5.2\n",
              " 146    5.0\n",
              " 147    5.2\n",
              " 148    5.4\n",
              " 149    5.1\n",
              " Name: PetalLengthCm, Length: 150, dtype: float64, 0      0.2\n",
              " 1      0.2\n",
              " 2      0.2\n",
              " 3      0.2\n",
              " 4      0.2\n",
              "       ... \n",
              " 145    2.3\n",
              " 146    1.9\n",
              " 147    2.0\n",
              " 148    2.3\n",
              " 149    1.8\n",
              " Name: PetalWidthCm, Length: 150, dtype: float64)"
            ]
          },
          "metadata": {},
          "execution_count": 31
        }
      ]
    },
    {
      "cell_type": "markdown",
      "source": [
        "# c. Do train_test_split like you did in model 1 this time test_size is again 30%"
      ],
      "metadata": {
        "id": "yer2elAU1gp-"
      }
    },
    {
      "cell_type": "code",
      "source": [
        "iris = load_iris()"
      ],
      "metadata": {
        "id": "fGyDGpLs1jrm"
      },
      "execution_count": 32,
      "outputs": []
    },
    {
      "cell_type": "code",
      "source": [
        "X = iris.data\n",
        "Y = iris.target"
      ],
      "metadata": {
        "id": "KdUd2bc62mRe"
      },
      "execution_count": 33,
      "outputs": []
    },
    {
      "cell_type": "code",
      "source": [
        "X_train, X_test, Y_train, Y_test = train_test_split(X, Y, test_size = 0.30)"
      ],
      "metadata": {
        "id": "3mZSTegf2qaA"
      },
      "execution_count": 34,
      "outputs": []
    },
    {
      "cell_type": "markdown",
      "source": [
        "# d. Fit both train set into fit method of linearregression\n"
      ],
      "metadata": {
        "id": "JKWAtmgX1k0t"
      }
    },
    {
      "cell_type": "code",
      "source": [
        "lr = linear_model.LinearRegression()"
      ],
      "metadata": {
        "id": "dvU-02kU1rIP"
      },
      "execution_count": 35,
      "outputs": []
    },
    {
      "cell_type": "code",
      "source": [
        "lr.fit(X_train, Y_train)"
      ],
      "metadata": {
        "colab": {
          "base_uri": "https://localhost:8080/"
        },
        "id": "dC3vT6J73pIy",
        "outputId": "f64058ad-6de5-43d3-f880-47f1ece6fda0"
      },
      "execution_count": 36,
      "outputs": [
        {
          "output_type": "execute_result",
          "data": {
            "text/plain": [
              "LinearRegression()"
            ]
          },
          "metadata": {},
          "execution_count": 36
        }
      ]
    },
    {
      "cell_type": "markdown",
      "source": [
        "# e. Predict x_test and store result into y_pred using predict method "
      ],
      "metadata": {
        "id": "nCsN0WOx1t-r"
      }
    },
    {
      "cell_type": "code",
      "source": [
        "Y_pred = lr.predict(X_test)\n",
        "Y_pred"
      ],
      "metadata": {
        "colab": {
          "base_uri": "https://localhost:8080/"
        },
        "id": "2-C6Jnul1vNg",
        "outputId": "408d4bfb-76cd-4001-c047-969806af5532"
      },
      "execution_count": 37,
      "outputs": [
        {
          "output_type": "execute_result",
          "data": {
            "text/plain": [
              "array([ 1.22255663e+00,  1.21683539e+00,  1.20406983e+00,  1.30306374e+00,\n",
              "        1.20854516e+00,  1.41331688e+00,  1.07732839e+00,  1.62159940e+00,\n",
              "        1.22372171e+00,  1.46456355e+00, -4.45464747e-02,  6.53872997e-04,\n",
              "        1.21278757e+00,  1.70781637e+00, -1.41275266e-02,  1.75444703e+00,\n",
              "        9.27412906e-01,  1.39469418e+00,  1.21701980e+00,  1.68268636e+00,\n",
              "        2.10667474e+00,  1.57435570e+00,  1.98224554e+00, -1.56937334e-02,\n",
              "        9.90959363e-01,  1.18635179e+00,  1.62258604e+00,  1.46077876e-01,\n",
              "        1.39436909e+00,  1.30429348e+00,  2.08929795e+00,  1.26360195e+00,\n",
              "       -4.44866031e-02,  1.13040170e+00,  1.56408311e+00,  1.32324127e+00,\n",
              "        1.44203372e+00,  1.62800553e-02,  1.94319624e+00,  1.80327675e+00,\n",
              "        9.55864527e-01,  1.36225940e+00, -7.00129472e-02,  1.19670040e+00,\n",
              "       -1.78502548e-02])"
            ]
          },
          "metadata": {},
          "execution_count": 37
        }
      ]
    },
    {
      "cell_type": "markdown",
      "source": [
        "# f. Find out mean_squared_error of actual and predicted test set"
      ],
      "metadata": {
        "id": "D3sFy7sL1vxX"
      }
    },
    {
      "cell_type": "code",
      "source": [
        "M_S_E = mean_squared_error(Y_test,Y_pred)\n",
        "M_S_E"
      ],
      "metadata": {
        "colab": {
          "base_uri": "https://localhost:8080/"
        },
        "id": "LYp_pxik1zbP",
        "outputId": "29f3b17c-8d7a-48c6-cce9-a69525267f9e"
      },
      "execution_count": 38,
      "outputs": [
        {
          "output_type": "execute_result",
          "data": {
            "text/plain": [
              "0.06679692098640101"
            ]
          },
          "metadata": {},
          "execution_count": 38
        }
      ]
    },
    {
      "cell_type": "code",
      "source": [
        "lr_df1 = pd.DataFrame({'Actual': Y_test.flatten(), 'Predicted': Y_pred.flatten()}).head(5)\n",
        "lr_df1"
      ],
      "metadata": {
        "colab": {
          "base_uri": "https://localhost:8080/",
          "height": 206
        },
        "id": "MVXcqgJpf04X",
        "outputId": "cb0e9a5c-a3ef-4677-f306-2f27be9ad6ce"
      },
      "execution_count": 42,
      "outputs": [
        {
          "output_type": "execute_result",
          "data": {
            "text/plain": [
              "   Actual  Predicted\n",
              "0       1   1.222557\n",
              "1       1   1.216835\n",
              "2       1   1.204070\n",
              "3       1   1.303064\n",
              "4       1   1.208545"
            ],
            "text/html": [
              "\n",
              "  <div id=\"df-6de65c31-00f3-4e15-b7a3-04b0fb371fd6\">\n",
              "    <div class=\"colab-df-container\">\n",
              "      <div>\n",
              "<style scoped>\n",
              "    .dataframe tbody tr th:only-of-type {\n",
              "        vertical-align: middle;\n",
              "    }\n",
              "\n",
              "    .dataframe tbody tr th {\n",
              "        vertical-align: top;\n",
              "    }\n",
              "\n",
              "    .dataframe thead th {\n",
              "        text-align: right;\n",
              "    }\n",
              "</style>\n",
              "<table border=\"1\" class=\"dataframe\">\n",
              "  <thead>\n",
              "    <tr style=\"text-align: right;\">\n",
              "      <th></th>\n",
              "      <th>Actual</th>\n",
              "      <th>Predicted</th>\n",
              "    </tr>\n",
              "  </thead>\n",
              "  <tbody>\n",
              "    <tr>\n",
              "      <th>0</th>\n",
              "      <td>1</td>\n",
              "      <td>1.222557</td>\n",
              "    </tr>\n",
              "    <tr>\n",
              "      <th>1</th>\n",
              "      <td>1</td>\n",
              "      <td>1.216835</td>\n",
              "    </tr>\n",
              "    <tr>\n",
              "      <th>2</th>\n",
              "      <td>1</td>\n",
              "      <td>1.204070</td>\n",
              "    </tr>\n",
              "    <tr>\n",
              "      <th>3</th>\n",
              "      <td>1</td>\n",
              "      <td>1.303064</td>\n",
              "    </tr>\n",
              "    <tr>\n",
              "      <th>4</th>\n",
              "      <td>1</td>\n",
              "      <td>1.208545</td>\n",
              "    </tr>\n",
              "  </tbody>\n",
              "</table>\n",
              "</div>\n",
              "      <button class=\"colab-df-convert\" onclick=\"convertToInteractive('df-6de65c31-00f3-4e15-b7a3-04b0fb371fd6')\"\n",
              "              title=\"Convert this dataframe to an interactive table.\"\n",
              "              style=\"display:none;\">\n",
              "        \n",
              "  <svg xmlns=\"http://www.w3.org/2000/svg\" height=\"24px\"viewBox=\"0 0 24 24\"\n",
              "       width=\"24px\">\n",
              "    <path d=\"M0 0h24v24H0V0z\" fill=\"none\"/>\n",
              "    <path d=\"M18.56 5.44l.94 2.06.94-2.06 2.06-.94-2.06-.94-.94-2.06-.94 2.06-2.06.94zm-11 1L8.5 8.5l.94-2.06 2.06-.94-2.06-.94L8.5 2.5l-.94 2.06-2.06.94zm10 10l.94 2.06.94-2.06 2.06-.94-2.06-.94-.94-2.06-.94 2.06-2.06.94z\"/><path d=\"M17.41 7.96l-1.37-1.37c-.4-.4-.92-.59-1.43-.59-.52 0-1.04.2-1.43.59L10.3 9.45l-7.72 7.72c-.78.78-.78 2.05 0 2.83L4 21.41c.39.39.9.59 1.41.59.51 0 1.02-.2 1.41-.59l7.78-7.78 2.81-2.81c.8-.78.8-2.07 0-2.86zM5.41 20L4 18.59l7.72-7.72 1.47 1.35L5.41 20z\"/>\n",
              "  </svg>\n",
              "      </button>\n",
              "      \n",
              "  <style>\n",
              "    .colab-df-container {\n",
              "      display:flex;\n",
              "      flex-wrap:wrap;\n",
              "      gap: 12px;\n",
              "    }\n",
              "\n",
              "    .colab-df-convert {\n",
              "      background-color: #E8F0FE;\n",
              "      border: none;\n",
              "      border-radius: 50%;\n",
              "      cursor: pointer;\n",
              "      display: none;\n",
              "      fill: #1967D2;\n",
              "      height: 32px;\n",
              "      padding: 0 0 0 0;\n",
              "      width: 32px;\n",
              "    }\n",
              "\n",
              "    .colab-df-convert:hover {\n",
              "      background-color: #E2EBFA;\n",
              "      box-shadow: 0px 1px 2px rgba(60, 64, 67, 0.3), 0px 1px 3px 1px rgba(60, 64, 67, 0.15);\n",
              "      fill: #174EA6;\n",
              "    }\n",
              "\n",
              "    [theme=dark] .colab-df-convert {\n",
              "      background-color: #3B4455;\n",
              "      fill: #D2E3FC;\n",
              "    }\n",
              "\n",
              "    [theme=dark] .colab-df-convert:hover {\n",
              "      background-color: #434B5C;\n",
              "      box-shadow: 0px 1px 3px 1px rgba(0, 0, 0, 0.15);\n",
              "      filter: drop-shadow(0px 1px 2px rgba(0, 0, 0, 0.3));\n",
              "      fill: #FFFFFF;\n",
              "    }\n",
              "  </style>\n",
              "\n",
              "      <script>\n",
              "        const buttonEl =\n",
              "          document.querySelector('#df-6de65c31-00f3-4e15-b7a3-04b0fb371fd6 button.colab-df-convert');\n",
              "        buttonEl.style.display =\n",
              "          google.colab.kernel.accessAllowed ? 'block' : 'none';\n",
              "\n",
              "        async function convertToInteractive(key) {\n",
              "          const element = document.querySelector('#df-6de65c31-00f3-4e15-b7a3-04b0fb371fd6');\n",
              "          const dataTable =\n",
              "            await google.colab.kernel.invokeFunction('convertToInteractive',\n",
              "                                                     [key], {});\n",
              "          if (!dataTable) return;\n",
              "\n",
              "          const docLinkHtml = 'Like what you see? Visit the ' +\n",
              "            '<a target=\"_blank\" href=https://colab.research.google.com/notebooks/data_table.ipynb>data table notebook</a>'\n",
              "            + ' to learn more about interactive tables.';\n",
              "          element.innerHTML = '';\n",
              "          dataTable['output_type'] = 'display_data';\n",
              "          await google.colab.output.renderOutput(dataTable, element);\n",
              "          const docLink = document.createElement('div');\n",
              "          docLink.innerHTML = docLinkHtml;\n",
              "          element.appendChild(docLink);\n",
              "        }\n",
              "      </script>\n",
              "    </div>\n",
              "  </div>\n",
              "  "
            ]
          },
          "metadata": {},
          "execution_count": 42
        }
      ]
    },
    {
      "cell_type": "markdown",
      "source": [
        "# g. Describe which model is better and why?"
      ],
      "metadata": {
        "id": "y4L28SS511lW"
      }
    },
    {
      "cell_type": "markdown",
      "source": [
        "The first model is better because it had better performance since we had a smaller Dataset size."
      ],
      "metadata": {
        "id": "DfE4FEvY4zvj"
      }
    }
  ]
}